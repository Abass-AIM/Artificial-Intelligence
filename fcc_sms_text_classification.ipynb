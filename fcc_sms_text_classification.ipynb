{
  "cells": [
    {
      "cell_type": "markdown",
      "metadata": {
        "id": "view-in-github",
        "colab_type": "text"
      },
      "source": [
        "<a href=\"https://colab.research.google.com/github/Abass-AIM/Artificial-Intelligence/blob/main/fcc_sms_text_classification.ipynb\" target=\"_parent\"><img src=\"https://colab.research.google.com/assets/colab-badge.svg\" alt=\"Open In Colab\"/></a>"
      ]
    },
    {
      "cell_type": "code",
      "source": [
        "# 1️⃣ Remove broken TensorFlow packages\n",
        "!pip uninstall -y tensorflow tf-nightly tensorflow-cpu tensorflow-intel\n",
        "\n",
        "# 2️⃣ Install a stable compatible version\n",
        "!pip install tensorflow==2.17.0 tensorflow-datasets\n"
      ],
      "metadata": {
        "id": "LqX_bfkAZjkX"
      },
      "execution_count": null,
      "outputs": []
    },
    {
      "cell_type": "code",
      "execution_count": null,
      "metadata": {
        "id": "8RZOuS9LWQvv"
      },
      "outputs": [],
      "source": [
        "import tensorflow as tf\n",
        "import tensorflow_datasets as tfds\n",
        "import pandas as pd\n",
        "import numpy as np\n",
        "import matplotlib.pyplot as plt\n",
        "from tensorflow import keras\n",
        "\n",
        "print(\"TensorFlow version:\", tf.__version__)\n"
      ]
    },
    {
      "cell_type": "code",
      "execution_count": null,
      "metadata": {
        "id": "lMHwYXHXCar3"
      },
      "outputs": [],
      "source": [
        "# get data files\n",
        "!wget https://cdn.freecodecamp.org/project-data/sms/train-data.tsv\n",
        "!wget https://cdn.freecodecamp.org/project-data/sms/valid-data.tsv\n",
        "\n",
        "train_file_path = \"train-data.tsv\"\n",
        "test_file_path = \"valid-data.tsv\""
      ]
    },
    {
      "cell_type": "code",
      "execution_count": null,
      "metadata": {
        "id": "g_h508FEClxO"
      },
      "outputs": [],
      "source": [
        "from tensorflow.keras import layers\n",
        "train_df = pd.read_csv(train_file_path, sep='\\t', header=None, names=['label', 'message'])\n",
        "test_df = pd.read_csv(test_file_path, sep='\\t', header=None, names=['label', 'message'])\n",
        "\n",
        "# Map labels to 0 (ham) and 1 (spam)\n",
        "label_map = {'ham': 0, 'spam': 1}\n",
        "train_df['label'] = train_df['label'].map(label_map)\n",
        "test_df['label'] = test_df['label'].map(label_map)\n",
        "\n",
        "#Split data\n",
        "X_train = train_df['message'].values\n",
        "y_train = train_df['label'].values\n",
        "X_test = test_df['message'].values\n",
        "y_test = test_df['label'].values\n",
        "\n",
        "\n",
        "# Text vectorization\n",
        "max_vocab_size = 5000\n",
        "max_len = 100  # max number of words per message\n",
        "\n",
        "vectorizer = keras.layers.TextVectorization(\n",
        "    max_tokens=max_vocab_size,\n",
        "    output_mode='int',\n",
        "    output_sequence_length=max_len\n",
        ")\n",
        "\n",
        "# Adapt vectorizer to training messages\n",
        "vectorizer.adapt(X_train)\n",
        "\n",
        "#build model\n",
        "model = keras.Sequential([\n",
        "    vectorizer,\n",
        "    layers.Embedding(input_dim=max_vocab_size, output_dim=64, mask_zero=True),\n",
        "    layers.Bidirectional(layers.LSTM(64)),\n",
        "    layers.Dense(32, activation='relu'),\n",
        "    layers.Dense(1, activation='sigmoid')\n",
        "])\n",
        "\n",
        "model.compile(\n",
        "    loss='binary_crossentropy',\n",
        "    optimizer='adam',\n",
        "    metrics=['accuracy']\n",
        ")\n",
        "\n",
        "# Train the model\n",
        "history = model.fit(\n",
        "    X_train, y_train,\n",
        "    validation_split=0.2,\n",
        "    epochs=10,\n",
        "    batch_size=32,\n",
        "    verbose=1\n",
        ")\n"
      ]
    },
    {
      "cell_type": "code",
      "execution_count": null,
      "metadata": {
        "id": "zOMKywn4zReN"
      },
      "outputs": [],
      "source": [
        "def predict_message(message):\n",
        "    \"\"\"\n",
        "    Returns [probability, label]\n",
        "    probability: float between 0 and 1 (spam likelihood)\n",
        "    label: \"ham\" or \"spam\"\n",
        "    \"\"\"\n",
        "    # Wrap message in a tensor of dtype string\n",
        "    input_tensor = tf.constant([message], dtype=tf.string)\n",
        "    prob = model.predict(input_tensor, verbose=0)[0][0]\n",
        "    label = \"spam\" if prob >= 0.5 else \"ham\"\n",
        "    return [float(prob), label]\n",
        "\n",
        "# Test examples\n",
        "print(predict_message(\"Congratulations! You have won a free ticket. Call now!\"))\n",
        "print(predict_message(\"Hey, are we meeting for lunch today?\"))\n"
      ]
    },
    {
      "cell_type": "code",
      "execution_count": null,
      "metadata": {
        "id": "J9tD9yACG6M9"
      },
      "outputs": [],
      "source": [
        "def predict_message(pred_text):\n",
        "    \"\"\"\n",
        "    Predict whether a message is ham or spam.\n",
        "    Returns [probability, label], e.g. [0.0083, 'ham']\n",
        "    \"\"\"\n",
        "    # Convert input text to a TensorFlow string tensor\n",
        "    input_tensor = tf.constant([pred_text], dtype=tf.string)\n",
        "\n",
        "    # Predict probability (output of sigmoid)\n",
        "    prob = model.predict(input_tensor, verbose=0)[0][0]\n",
        "\n",
        "    # Determine label based on probability\n",
        "    label = \"spam\" if prob >= 0.5 else \"ham\"\n",
        "\n",
        "    return [float(prob), label]\n",
        "\n",
        "# Test the function\n",
        "pred_text = \"how are you doing today?\"\n",
        "prediction = predict_message(pred_text)\n",
        "print(prediction)\n"
      ]
    },
    {
      "cell_type": "code",
      "execution_count": null,
      "metadata": {
        "id": "Dxotov85SjsC"
      },
      "outputs": [],
      "source": [
        "# Run this cell to test your function and model. Do not modify contents.\n",
        "def test_predictions():\n",
        "  test_messages = [\"how are you doing today\",\n",
        "                   \"sale today! to stop texts call 98912460324\",\n",
        "                   \"i dont want to go. can we try it a different day? available sat\",\n",
        "                   \"our new mobile video service is live. just install on your phone to start watching.\",\n",
        "                   \"you have won £1000 cash! call to claim your prize.\",\n",
        "                   \"i'll bring it tomorrow. don't forget the milk.\",\n",
        "                   \"wow, is your arm alright. that happened to me one time too\"\n",
        "                  ]\n",
        "\n",
        "  test_answers = [\"ham\", \"spam\", \"ham\", \"spam\", \"spam\", \"ham\", \"ham\"]\n",
        "  passed = True\n",
        "\n",
        "  for msg, ans in zip(test_messages, test_answers):\n",
        "    prediction = predict_message(msg)\n",
        "    if prediction[1] != ans:\n",
        "      passed = False\n",
        "\n",
        "  if passed:\n",
        "    print(\"You passed the challenge. Great job!\")\n",
        "  else:\n",
        "    print(\"You haven't passed yet. Keep trying.\")\n",
        "\n",
        "test_predictions()\n"
      ]
    }
  ],
  "metadata": {
    "colab": {
      "private_outputs": true,
      "provenance": [],
      "include_colab_link": true
    },
    "kernelspec": {
      "display_name": "Python 3",
      "name": "python3"
    },
    "language_info": {}
  },
  "nbformat": 4,
  "nbformat_minor": 0
}